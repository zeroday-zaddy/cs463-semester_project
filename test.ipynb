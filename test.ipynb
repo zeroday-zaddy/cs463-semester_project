{
 "cells": [
  {
   "cell_type": "code",
   "execution_count": null,
   "metadata": {},
   "outputs": [],
   "source": [
    "\"\"\"permute test\"\"\"\n",
    "import mmhmm\n",
    "import des\n",
    "\n",
    "a = 0x1000_0010_0000_0000\n",
    "\n",
    "b = mmhmm.permute(a, des.BLOCK_SIZE, des.IP)\n",
    "\n",
    "print(format(a, \"064b\"))\n",
    "print(format(b, \"064b\"))"
   ]
  },
  {
   "cell_type": "code",
   "execution_count": null,
   "metadata": {},
   "outputs": [],
   "source": [
    "\"\"\"sbox testing\"\"\"\n",
    "import des\n",
    "import mmhmm\n",
    "\n",
    "\n",
    "a = 0x1000_0000_1000\n",
    "\n",
    "b = mmhmm.sbox(a)\n",
    "print(format(a, \"048b\"))\n",
    "print(format(b, \"032b\"))"
   ]
  },
  {
   "cell_type": "code",
   "execution_count": null,
   "metadata": {},
   "outputs": [],
   "source": [
    "\"\"\"ebox testing\"\"\"\n",
    "import mmhmm\n",
    "import des\n",
    "b = 0b0000_1000_0000_0000_0000_0000_0000_10001\n",
    "expanded = mmhmm.permute(b, \n",
    "        mmhmm.bin_len(des.MASK32), des.E_BOX)\n",
    "\n",
    "\n",
    "print(format(b, \"032b\"))\n",
    "print(format(expanded, \"048b\"))"
   ]
  },
  {
   "cell_type": "code",
   "execution_count": null,
   "metadata": {},
   "outputs": [],
   "source": [
    "\"\"\"test keys\"\"\"\n",
    "import mmhmm\n",
    "\n",
    "a = 0x8000000_1000000\n",
    "\n",
    "(b, c) = mmhmm.key_transform(a, 1, encrypting=True)\n",
    "\n",
    "print(format(a, \"056b\"))\n",
    "print(format(c, \"056b\"))\n",
    "print(format(b, \"048b\"))"
   ]
  },
  {
   "cell_type": "code",
   "execution_count": null,
   "metadata": {},
   "outputs": [],
   "source": [
    "\"\"\"test 16 rounds\"\"\"\n",
    "import mmhmm\n",
    "x = 0x8000_8000_8000_8000\n",
    "k = 0x1000_1000_1000_1000\n",
    "print(format(x, \"016x\"))\n",
    "\n",
    "y = mmhmm.rounds(x,k, encrypting=True)\n",
    "print(format(y, \"016x\"))\n",
    "\n",
    "m = mmhmm.rounds(y,k,encrypting=False)\n",
    "print(format(m, \"016x\"))"
   ]
  },
  {
   "cell_type": "code",
   "execution_count": null,
   "metadata": {},
   "outputs": [],
   "source": [
    "\"\"\"text testing\"\"\""
   ]
  }
 ],
 "metadata": {
  "kernelspec": {
   "display_name": "Python 3",
   "language": "python",
   "name": "python3"
  },
  "language_info": {
   "codemirror_mode": {
    "name": "ipython",
    "version": 3
   },
   "file_extension": ".py",
   "mimetype": "text/x-python",
   "name": "python",
   "nbconvert_exporter": "python",
   "pygments_lexer": "ipython3",
   "version": "3.11.3"
  },
  "orig_nbformat": 4
 },
 "nbformat": 4,
 "nbformat_minor": 2
}
